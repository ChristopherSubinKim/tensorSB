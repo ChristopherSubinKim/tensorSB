{
 "cells": [
  {
   "cell_type": "markdown",
   "id": "483b4065",
   "metadata": {},
   "source": [
    "## DMRG examples of tensorSB\n"
   ]
  },
  {
   "cell_type": "code",
   "execution_count": 14,
   "id": "45483046",
   "metadata": {},
   "outputs": [
    {
     "name": "stdout",
     "output_type": "stream",
     "text": [
      "The autoreload extension is already loaded. To reload it, use:\n",
      "  %reload_ext autoreload\n"
     ]
    },
    {
     "data": {
      "text/plain": [
       "<module 'tensorSB' from '/home/subini0213/cuQuantum/tensorSB/src/tensorSB/__init__.py'>"
      ]
     },
     "execution_count": 14,
     "metadata": {},
     "output_type": "execute_result"
    }
   ],
   "source": [
    "%load_ext autoreload\n",
    "%autoreload 2\n",
    "\n",
    "import os\n",
    "import importlib\n",
    "os.environ[\"BACKEND_TYPE\"]=\"torch\"\n",
    "# os.environ[\"BACKEND_TYPE\"]=\"numpy\"\n",
    "# os.environ[\"BACKEND_TYPE\"]=\"cupy\"\n",
    "try:\n",
    "    tn.reset_backend()\n",
    "except:\n",
    "    pass\n",
    "import tensorSB as tn\n",
    "importlib.reload(tn)"
   ]
  },
  {
   "cell_type": "markdown",
   "id": "6fd08dcb",
   "metadata": {},
   "source": [
    "### MPO construction\n",
    "\n",
    "Construct the open-boundary Heisenberg model Hamiltonian as a\n",
    "Matrix Product Operator (MPO), with coupling coefficient ```J``` and chain length ```n_site```."
   ]
  },
  {
   "cell_type": "code",
   "execution_count": 2,
   "id": "c7826ddd",
   "metadata": {},
   "outputs": [],
   "source": [
    "J = 1\n",
    "n_site = 50\n",
    "MPO = tn.MPO.HeisenbergMPO(J,n_site)"
   ]
  },
  {
   "cell_type": "markdown",
   "id": "bf487e74",
   "metadata": {},
   "source": [
    "### MPS initialization\n",
    "\n",
    "Initialize the ground-state Matrix Product State (MPS) of a given MPO.  \n",
    "For details, see the function description."
   ]
  },
  {
   "cell_type": "code",
   "execution_count": 3,
   "id": "sTuHaIJ2W5My",
   "metadata": {
    "colab": {
     "base_uri": "https://localhost:8080/"
    },
    "executionInfo": {
     "elapsed": 8815,
     "status": "ok",
     "timestamp": 1755792729661,
     "user": {
      "displayName": "Subin Kim",
      "userId": "15547911492359629778"
     },
     "user_tz": -540
    },
    "id": "sTuHaIJ2W5My",
    "outputId": "5e9f8751-f949-4903-d7a2-0022a5367214"
   },
   "outputs": [
    {
     "name": "stdout",
     "output_type": "stream",
     "text": [
      "lattice site 1/50\n",
      "lattice site 2/50\n",
      "lattice site 3/50\n",
      "lattice site 4/50\n",
      "lattice site 5/50\n",
      "lattice site 6/50\n",
      "lattice site 7/50\n",
      "lattice site 8/50\n",
      "lattice site 9/50\n",
      "lattice site 10/50\n",
      "lattice site 11/50\n",
      "lattice site 12/50\n",
      "lattice site 13/50\n",
      "lattice site 14/50\n",
      "lattice site 15/50\n",
      "lattice site 16/50\n",
      "lattice site 17/50\n",
      "lattice site 18/50\n",
      "lattice site 19/50\n",
      "lattice site 20/50\n",
      "lattice site 21/50\n",
      "lattice site 22/50\n",
      "lattice site 23/50\n",
      "lattice site 24/50\n",
      "lattice site 25/50\n",
      "lattice site 26/50\n",
      "lattice site 27/50\n",
      "lattice site 28/50\n",
      "lattice site 29/50\n",
      "lattice site 30/50\n",
      "lattice site 31/50\n",
      "lattice site 32/50\n",
      "lattice site 33/50\n",
      "lattice site 34/50\n",
      "lattice site 35/50\n",
      "lattice site 36/50\n",
      "lattice site 37/50\n",
      "lattice site 38/50\n",
      "lattice site 39/50\n",
      "lattice site 40/50\n",
      "lattice site 41/50\n",
      "lattice site 42/50\n",
      "lattice site 43/50\n",
      "lattice site 44/50\n",
      "lattice site 45/50\n",
      "lattice site 46/50\n",
      "lattice site 47/50\n",
      "lattice site 48/50\n",
      "lattice site 49/50\n",
      "lattice site 50/50\n",
      "tensor([-21.8161])\n"
     ]
    }
   ],
   "source": [
    "MPO = tn.MPO.HeisenbergMPO(1,50)\n",
    "\n",
    "n_keep=50\n",
    "M, E = tn.MPS.MPS_initialize(MPO,n_keep=n_keep,e_num=1)\n",
    "print(E)"
   ]
  },
  {
   "cell_type": "markdown",
   "id": "b9fb7c4b",
   "metadata": {},
   "source": [
    "### Canonical MPS\n",
    "\n",
    "Transform a Matrix Product State (MPS) into its bond-canonical form.  \n",
    "Since this operation requires SVD, specify `use_cuda=False` when running without a CUDA environment.\n"
   ]
  },
  {
   "cell_type": "code",
   "execution_count": 5,
   "id": "6EyjPHQM9K5j",
   "metadata": {
    "executionInfo": {
     "elapsed": 281,
     "status": "aborted",
     "timestamp": 1755785220293,
     "user": {
      "displayName": "Subin Kim",
      "userId": "15547911492359629778"
     },
     "user_tz": -540
    },
    "id": "6EyjPHQM9K5j"
   },
   "outputs": [],
   "source": [
    "M_right_can,S = tn.MPS.canon_form(M,len(M),use_cuda=False)\n",
    "M_left_can,S = tn.MPS.canon_form(M,0,use_cuda=False)"
   ]
  },
  {
   "cell_type": "markdown",
   "id": "b401b774",
   "metadata": {},
   "source": [
    "### Single-site DMRG\n",
    "\n",
    "For details, see the function description."
   ]
  },
  {
   "cell_type": "code",
   "execution_count": null,
   "id": "gKbvbBb1P9l2",
   "metadata": {
    "colab": {
     "base_uri": "https://localhost:8080/"
    },
    "executionInfo": {
     "elapsed": 23280,
     "status": "ok",
     "timestamp": 1755794767279,
     "user": {
      "displayName": "Subin Kim",
      "userId": "15547911492359629778"
     },
     "user_tz": -540
    },
    "id": "gKbvbBb1P9l2",
    "outputId": "3ec02328-eeb0-4166-8be0-bf8490e85f9e"
   },
   "outputs": [
    {
     "name": "stdout",
     "output_type": "stream",
     "text": [
      "Single-site DMRG: ground state search\n",
      "# of sites = 50, n_keep = 100, # of sweeps = 10 x 2\n",
      "Sweep #1/20, (right -> left) : Energy = -21.972073753828248, elapsed time = 1.4213495254516602s\n",
      "Sweep #2/20, (left -> right) : Energy = -21.972109298499948, elapsed time = 4.29906964302063s\n",
      "Sweep #3/20, (right -> left) : Energy = -21.972110121523624, elapsed time = 5.687358379364014s\n",
      "Sweep #4/20, (left -> right) : Energy = -21.97211017737036, elapsed time = 8.389647722244263s\n",
      "Sweep #5/20, (right -> left) : Energy = -21.972110189849147, elapsed time = 9.678722143173218s\n",
      "Sweep #6/20, (left -> right) : Energy = -21.972110196006657, elapsed time = 16.198148727416992s\n",
      "Sweep #7/20, (right -> left) : Energy = -21.972110199530697, elapsed time = 11.947740316390991s\n",
      "Sweep #8/20, (left -> right) : Energy = -21.972110201549842, elapsed time = 13.056295394897461s\n",
      "Sweep #9/20, (right -> left) : Energy = -21.972110202679026, elapsed time = 14.24229097366333s\n",
      "Sweep #10/20, (left -> right) : Energy = -21.972110203301927, elapsed time = 15.09869122505188s\n",
      "Sweep #11/20, (right -> left) : Energy = -21.972110203654527, elapsed time = 21.36521291732788s\n",
      "Sweep #12/20, (left -> right) : Energy = -21.97211020387342, elapsed time = 16.86733889579773s\n",
      "Sweep #13/20, (right -> left) : Energy = -21.97211020402515, elapsed time = 17.958935737609863s\n",
      "Sweep #14/20, (left -> right) : Energy = -21.97211020413948, elapsed time = 19.861868143081665s\n",
      "Sweep #15/20, (right -> left) : Energy = -21.972110204230678, elapsed time = 20.79697012901306s\n",
      "Sweep #16/20, (left -> right) : Energy = -21.97211020430346, elapsed time = 21.77194046974182s\n",
      "Sweep #17/20, (right -> left) : Energy = -21.972110204363783, elapsed time = 22.55657720565796s\n",
      "Sweep #18/20, (left -> right) : Energy = -21.97211020441564, elapsed time = 23.32415008544922s\n",
      "Sweep #19/20, (right -> left) : Energy = -21.972110204460733, elapsed time = 24.05978775024414s\n",
      "Sweep #20/20, (left -> right) : Energy = -21.97211020450266, elapsed time = 24.798425674438477s\n"
     ]
    }
   ],
   "source": [
    "M, E_0, E_iter,S = tn.DMRG.DMRG_GS_1site(M,MPO,10,n_keep=100,use_cuda=False)"
   ]
  },
  {
   "cell_type": "markdown",
   "id": "aaa2ac56",
   "metadata": {},
   "source": [
    "### RSVD-CBE DMRG\n",
    "\n",
    "Controlled bond expansion DMRG, where the selection algorithm is Randomized SVD.    \n",
    "CBE can expand the bond space with the computational cost of a one-site update, as in two-site DMRG."
   ]
  },
  {
   "cell_type": "code",
   "execution_count": 13,
   "id": "Yn-mRJyqFcHr",
   "metadata": {
    "colab": {
     "base_uri": "https://localhost:8080/"
    },
    "executionInfo": {
     "elapsed": 79806,
     "status": "ok",
     "timestamp": 1755794719980,
     "user": {
      "displayName": "Subin Kim",
      "userId": "15547911492359629778"
     },
     "user_tz": -540
    },
    "id": "Yn-mRJyqFcHr",
    "outputId": "c3ec1a0f-8a2a-4579-bda5-1707717fd081"
   },
   "outputs": [
    {
     "name": "stdout",
     "output_type": "stream",
     "text": [
      "Single-site DMRG: ground state search\n",
      "# of sites = 50, n_keep = 50, # of sweeps = 5 x 2\n",
      "Sweep #1/10, (right -> left) : Energy = -21.972110207790866, elapsed time = 0.9546244144439697s\n",
      "Sweep #2/10, (left -> right) : Energy = -21.972110208006544, elapsed time = 2.5848278999328613s\n",
      "# of sites = 50, n_keep = 55, # of sweeps = 5 x 2\n",
      "Sweep #3/10, (right -> left) : Energy = -21.972110242890377, elapsed time = 4.516230821609497s\n",
      "Sweep #4/10, (left -> right) : Energy = -21.97211024350728, elapsed time = 11.565898418426514s\n",
      "# of sites = 50, n_keep = 60, # of sweeps = 5 x 2\n",
      "Sweep #5/10, (right -> left) : Energy = -21.97211026445344, elapsed time = 7.086337089538574s\n",
      "Sweep #6/10, (left -> right) : Energy = -21.972110264582792, elapsed time = 8.592323780059814s\n",
      "# of sites = 50, n_keep = 65, # of sweeps = 5 x 2\n",
      "Sweep #7/10, (right -> left) : Energy = -21.972110272841924, elapsed time = 10.347728967666626s\n",
      "Sweep #8/10, (left -> right) : Energy = -21.97211027291086, elapsed time = 13.222877264022827s\n",
      "# of sites = 50, n_keep = 65, # of sweeps = 5 x 2\n",
      "Sweep #9/10, (right -> left) : Energy = -21.972110272913557, elapsed time = 15.737250804901123s\n",
      "Sweep #10/10, (left -> right) : Energy = -21.972110272897115, elapsed time = 16.829872369766235s\n"
     ]
    }
   ],
   "source": [
    "M_rsvd = M[:]\n",
    "M_rsvd, E_0, E_iter,S = tn.DMRG.DMRG_GS_RSVD(M_rsvd,MPO,5,n_keep=n_keep,max_n_keep=65,delta=0.2,alpha=0.1,use_cuda=False)\n"
   ]
  },
  {
   "cell_type": "markdown",
   "id": "0061758c",
   "metadata": {},
   "source": [
    "### MPS values.\n",
    "\n",
    "Each is     \n",
    "$ \\bra{\\psi}H\\ket{\\psi}$    \n",
    "$ \\braket{\\psi|\\psi} $  \n",
    "$ \\bra{\\psi}O_iO_{i+1}\\ket{\\psi} $"
   ]
  },
  {
   "cell_type": "code",
   "execution_count": 16,
   "id": "_3n15WG7HqZ_",
   "metadata": {
    "executionInfo": {
     "elapsed": 80,
     "status": "aborted",
     "timestamp": 1755785220300,
     "user": {
      "displayName": "Subin Kim",
      "userId": "15547911492359629778"
     },
     "user_tz": -540
    },
    "id": "_3n15WG7HqZ_"
   },
   "outputs": [
    {
     "name": "stdout",
     "output_type": "stream",
     "text": [
      "tensor(-21.9721)\n",
      "tensor(1.0000)\n",
      "tensor(-0.5031)\n"
     ]
    }
   ],
   "source": [
    "\n",
    "print(tn.MPS.H_val_MPS(M_rsvd,MPO))\n",
    "print(tn.MPS.norm_MPS(M_rsvd))\n",
    "\n",
    "# correlation function\n",
    "S,I = tn.tensor.get_local_space('Spin', 1/2)\n",
    "print(tn.MPS.correlation_MPS(M_rsvd,S,10,tn.tensor.Hconj(S),11))"
   ]
  }
 ],
 "metadata": {
  "accelerator": "GPU",
  "colab": {
   "gpuType": "T4",
   "provenance": []
  },
  "kernelspec": {
   "display_name": "tn",
   "language": "python",
   "name": "python3"
  },
  "language_info": {
   "codemirror_mode": {
    "name": "ipython",
    "version": 3
   },
   "file_extension": ".py",
   "mimetype": "text/x-python",
   "name": "python",
   "nbconvert_exporter": "python",
   "pygments_lexer": "ipython3",
   "version": "3.13.5"
  }
 },
 "nbformat": 4,
 "nbformat_minor": 5
}
